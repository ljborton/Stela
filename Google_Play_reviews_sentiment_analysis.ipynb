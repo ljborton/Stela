{
 "cells": [
  {
   "cell_type": "markdown",
   "metadata": {},
   "source": [
    "## Gather and Clean Data"
   ]
  },
  {
   "cell_type": "code",
   "execution_count": null,
   "metadata": {},
   "outputs": [],
   "source": [
    "'''\n",
    "Reviews on the Google Play store are available but require clicking on \"READ ALL REVIEWS\" a few times.\n",
    "'''"
   ]
  },
  {
   "cell_type": "code",
   "execution_count": 15,
   "metadata": {},
   "outputs": [],
   "source": [
    "import numpy as np\n",
    "import pandas as pd\n",
    "from selenium import webdriver\n",
    "from selenium.webdriver.common.keys import Keys\n",
    "import time\n",
    "from bs4 import BeautifulSoup\n",
    "import requests\n",
    "import re\n",
    "import os"
   ]
  },
  {
   "cell_type": "code",
   "execution_count": 2,
   "metadata": {},
   "outputs": [],
   "source": [
    "import matplotlib.pyplot as plt\n",
    "from matplotlib.pyplot import figure\n",
    "import matplotlib as mpl\n",
    "%matplotlib inline"
   ]
  },
  {
   "cell_type": "code",
   "execution_count": 3,
   "metadata": {},
   "outputs": [],
   "source": [
    "mpl.rcParams['figure.dpi'] = 100"
   ]
  },
  {
   "cell_type": "code",
   "execution_count": 2,
   "metadata": {},
   "outputs": [],
   "source": [
    "chromedriver = \"/Users/laura.borton/Documents/python_stuff/chromedriver\" # path to the chromedriver executable\n",
    "os.environ[\"webdriver.chrome.driver\"] = chromedriver\n",
    "\n",
    "driver = webdriver.Chrome(chromedriver)"
   ]
  },
  {
   "cell_type": "code",
   "execution_count": 5,
   "metadata": {},
   "outputs": [],
   "source": [
    "driver.get(\"https://play.google.com/store/apps/details?id=com.stela.comics_unlimited&showAllReviews=true\")"
   ]
  },
  {
   "cell_type": "code",
   "execution_count": 99,
   "metadata": {},
   "outputs": [],
   "source": [
    "google = []\n",
    "for i in range (1,296):\n",
    "                \n",
    "    #star\n",
    "    job_xpath= '//*[@id=\"fcxH9b\"]/div[4]/c-wiz/div/div[2]/div/div[1]/div/div/div[1]/div[2]/div/div[{}]/div/div[2]/div[2]/span[1]'.format(i)\n",
    "    job= driver.find_element_by_xpath(job_xpath).text      \n",
    "    google.append(job)\n",
    "    #text\n",
    "    job_xpath= '//*[@id=\"fcxH9b\"]/div[4]/c-wiz/div/div[2]/div/div[1]/div/div/div[1]/div[2]/div/div[{}]/div/div[2]/div[1]/div[1]/div/span[1]/div/div'.format(i)\n",
    "    job= driver.find_element_by_xpath(job_xpath).get_attribute(\"aria-label\")\n",
    "    google.append(job) "
   ]
  },
  {
   "cell_type": "code",
   "execution_count": 107,
   "metadata": {},
   "outputs": [
    {
     "data": {
      "text/plain": [
       "590"
      ]
     },
     "execution_count": 107,
     "metadata": {},
     "output_type": "execute_result"
    }
   ],
   "source": [
    "len(google)"
   ]
  },
  {
   "cell_type": "code",
   "execution_count": 114,
   "metadata": {},
   "outputs": [
    {
     "data": {
      "text/plain": [
       "['Great story',\n",
       " 'Rated 5 stars out of five stars',\n",
       " 'It is awesome',\n",
       " 'Rated 4 stars out of five stars',\n",
       " 'these stories look amazing but i have to pay for them',\n",
       " 'Rated 5 stars out of five stars',\n",
       " 'WORD.',\n",
       " 'Rated 5 stars out of five stars',\n",
       " \"Meh. Not that great. Now that I finished reading all of the stories in a just about two week, there's nothing else to look forward to. not enough stories to keep me subscribed. other apps out there have more stories and are free.\",\n",
       " 'Rated 1 stars out of five stars']"
      ]
     },
     "execution_count": 114,
     "metadata": {},
     "output_type": "execute_result"
    }
   ],
   "source": [
    "google [0:10]"
   ]
  },
  {
   "cell_type": "code",
   "execution_count": 117,
   "metadata": {},
   "outputs": [
    {
     "data": {
      "text/html": [
       "<div>\n",
       "<style scoped>\n",
       "    .dataframe tbody tr th:only-of-type {\n",
       "        vertical-align: middle;\n",
       "    }\n",
       "\n",
       "    .dataframe tbody tr th {\n",
       "        vertical-align: top;\n",
       "    }\n",
       "\n",
       "    .dataframe thead th {\n",
       "        text-align: right;\n",
       "    }\n",
       "</style>\n",
       "<table border=\"1\" class=\"dataframe\">\n",
       "  <thead>\n",
       "    <tr style=\"text-align: right;\">\n",
       "      <th></th>\n",
       "      <th>0</th>\n",
       "    </tr>\n",
       "  </thead>\n",
       "  <tbody>\n",
       "    <tr>\n",
       "      <th>0</th>\n",
       "      <td>Great story</td>\n",
       "    </tr>\n",
       "    <tr>\n",
       "      <th>1</th>\n",
       "      <td>Rated 5 stars out of five stars</td>\n",
       "    </tr>\n",
       "    <tr>\n",
       "      <th>2</th>\n",
       "      <td>It is awesome</td>\n",
       "    </tr>\n",
       "    <tr>\n",
       "      <th>3</th>\n",
       "      <td>Rated 4 stars out of five stars</td>\n",
       "    </tr>\n",
       "    <tr>\n",
       "      <th>4</th>\n",
       "      <td>these stories look amazing but i have to pay f...</td>\n",
       "    </tr>\n",
       "  </tbody>\n",
       "</table>\n",
       "</div>"
      ],
      "text/plain": [
       "                                                   0\n",
       "0                                        Great story\n",
       "1                    Rated 5 stars out of five stars\n",
       "2                                      It is awesome\n",
       "3                    Rated 4 stars out of five stars\n",
       "4  these stories look amazing but i have to pay f..."
      ]
     },
     "execution_count": 117,
     "metadata": {},
     "output_type": "execute_result"
    }
   ],
   "source": [
    "df = pd.DataFrame(google)\n",
    "df.head()"
   ]
  },
  {
   "cell_type": "code",
   "execution_count": null,
   "metadata": {},
   "outputs": [],
   "source": [
    "pd.DataFrame(google).to_csv('google.csv')"
   ]
  },
  {
   "cell_type": "code",
   "execution_count": 109,
   "metadata": {},
   "outputs": [],
   "source": [
    "driver.close()"
   ]
  },
  {
   "cell_type": "code",
   "execution_count": 23,
   "metadata": {},
   "outputs": [
    {
     "data": {
      "text/html": [
       "<div>\n",
       "<style scoped>\n",
       "    .dataframe tbody tr th:only-of-type {\n",
       "        vertical-align: middle;\n",
       "    }\n",
       "\n",
       "    .dataframe tbody tr th {\n",
       "        vertical-align: top;\n",
       "    }\n",
       "\n",
       "    .dataframe thead th {\n",
       "        text-align: right;\n",
       "    }\n",
       "</style>\n",
       "<table border=\"1\" class=\"dataframe\">\n",
       "  <thead>\n",
       "    <tr style=\"text-align: right;\">\n",
       "      <th></th>\n",
       "      <th>review</th>\n",
       "      <th>rating</th>\n",
       "    </tr>\n",
       "  </thead>\n",
       "  <tbody>\n",
       "    <tr>\n",
       "      <th>0</th>\n",
       "      <td>Great story</td>\n",
       "      <td>Rated 5 stars out of five stars</td>\n",
       "    </tr>\n",
       "    <tr>\n",
       "      <th>1</th>\n",
       "      <td>It is awesome</td>\n",
       "      <td>Rated 4 stars out of five stars</td>\n",
       "    </tr>\n",
       "    <tr>\n",
       "      <th>2</th>\n",
       "      <td>these stories look amazing but i have to pay f...</td>\n",
       "      <td>Rated 5 stars out of five stars</td>\n",
       "    </tr>\n",
       "    <tr>\n",
       "      <th>3</th>\n",
       "      <td>WORD.</td>\n",
       "      <td>Rated 5 stars out of five stars</td>\n",
       "    </tr>\n",
       "    <tr>\n",
       "      <th>4</th>\n",
       "      <td>Meh. Not that great. Now that I finished readi...</td>\n",
       "      <td>Rated 1 stars out of five stars</td>\n",
       "    </tr>\n",
       "  </tbody>\n",
       "</table>\n",
       "</div>"
      ],
      "text/plain": [
       "                                              review  \\\n",
       "0                                        Great story   \n",
       "1                                      It is awesome   \n",
       "2  these stories look amazing but i have to pay f...   \n",
       "3                                              WORD.   \n",
       "4  Meh. Not that great. Now that I finished readi...   \n",
       "\n",
       "                            rating  \n",
       "0  Rated 5 stars out of five stars  \n",
       "1  Rated 4 stars out of five stars  \n",
       "2  Rated 5 stars out of five stars  \n",
       "3  Rated 5 stars out of five stars  \n",
       "4  Rated 1 stars out of five stars  "
      ]
     },
     "execution_count": 23,
     "metadata": {},
     "output_type": "execute_result"
    }
   ],
   "source": [
    "#putting the reviews in one column and the ratings in another (dataframe from dictionary)\n",
    "dfrev = pd.DataFrame({'review':df[0].iloc[::2].values, 'rating':df[0].iloc[1::2].values})\n",
    "dfrev.head()"
   ]
  },
  {
   "cell_type": "code",
   "execution_count": 167,
   "metadata": {},
   "outputs": [
    {
     "data": {
      "text/html": [
       "<div>\n",
       "<style scoped>\n",
       "    .dataframe tbody tr th:only-of-type {\n",
       "        vertical-align: middle;\n",
       "    }\n",
       "\n",
       "    .dataframe tbody tr th {\n",
       "        vertical-align: top;\n",
       "    }\n",
       "\n",
       "    .dataframe thead th {\n",
       "        text-align: right;\n",
       "    }\n",
       "</style>\n",
       "<table border=\"1\" class=\"dataframe\">\n",
       "  <thead>\n",
       "    <tr style=\"text-align: right;\">\n",
       "      <th></th>\n",
       "      <th>review</th>\n",
       "      <th>rating</th>\n",
       "      <th>star</th>\n",
       "    </tr>\n",
       "  </thead>\n",
       "  <tbody>\n",
       "    <tr>\n",
       "      <th>0</th>\n",
       "      <td>Great story</td>\n",
       "      <td>Rated 5 stars out of five stars</td>\n",
       "      <td>5</td>\n",
       "    </tr>\n",
       "    <tr>\n",
       "      <th>1</th>\n",
       "      <td>It is awesome</td>\n",
       "      <td>Rated 4 stars out of five stars</td>\n",
       "      <td>4</td>\n",
       "    </tr>\n",
       "    <tr>\n",
       "      <th>2</th>\n",
       "      <td>these stories look amazing but i have to pay f...</td>\n",
       "      <td>Rated 5 stars out of five stars</td>\n",
       "      <td>5</td>\n",
       "    </tr>\n",
       "    <tr>\n",
       "      <th>3</th>\n",
       "      <td>WORD.</td>\n",
       "      <td>Rated 5 stars out of five stars</td>\n",
       "      <td>5</td>\n",
       "    </tr>\n",
       "    <tr>\n",
       "      <th>4</th>\n",
       "      <td>Meh. Not that great. Now that I finished readi...</td>\n",
       "      <td>Rated 1 stars out of five stars</td>\n",
       "      <td>1</td>\n",
       "    </tr>\n",
       "  </tbody>\n",
       "</table>\n",
       "</div>"
      ],
      "text/plain": [
       "                                              review  \\\n",
       "0                                        Great story   \n",
       "1                                      It is awesome   \n",
       "2  these stories look amazing but i have to pay f...   \n",
       "3                                              WORD.   \n",
       "4  Meh. Not that great. Now that I finished readi...   \n",
       "\n",
       "                            rating  star  \n",
       "0  Rated 5 stars out of five stars     5  \n",
       "1  Rated 4 stars out of five stars     4  \n",
       "2  Rated 5 stars out of five stars     5  \n",
       "3  Rated 5 stars out of five stars     5  \n",
       "4  Rated 1 stars out of five stars     1  "
      ]
     },
     "execution_count": 167,
     "metadata": {},
     "output_type": "execute_result"
    }
   ],
   "source": [
    "#Only want numbers from ratings column\n",
    "dfrev['star'] = dfrev['rating'].str.extract('(\\d+)').astype(int)\n",
    "dfrev.head()"
   ]
  },
  {
   "cell_type": "code",
   "execution_count": 174,
   "metadata": {},
   "outputs": [
    {
     "name": "stdout",
     "output_type": "stream",
     "text": [
      "                                               review  \\\n",
      "4   Meh. Not that great. Now that I finished readi...   \n",
      "6   you:*clicks on a story you wanna read* first c...   \n",
      "7    wish the free trail didnt need a card or nothing   \n",
      "13  Omg not any more it more like we sorry will it...   \n",
      "17  PATHETIC!!!! i hate this app!!!! you have to p...   \n",
      "\n",
      "                             rating  star  \n",
      "4   Rated 1 stars out of five stars     1  \n",
      "6   Rated 1 stars out of five stars     1  \n",
      "7   Rated 2 stars out of five stars     2  \n",
      "13  Rated 1 stars out of five stars     1  \n",
      "17  Rated 1 stars out of five stars     1  \n",
      "                                                review  \\\n",
      "286              Love the compeling arts. Please more!   \n",
      "287                            Brilliant storytelling!   \n",
      "292  Stela is a unique way to view comics. The grap...   \n",
      "293  It requires payment but it is also not like ot...   \n",
      "294  Awesome comic reading platform. Highly recomme...   \n",
      "\n",
      "                              rating  star  \n",
      "286  Rated 5 stars out of five stars     5  \n",
      "287  Rated 5 stars out of five stars     5  \n",
      "292  Rated 5 stars out of five stars     5  \n",
      "293  Rated 5 stars out of five stars     5  \n",
      "294  Rated 5 stars out of five stars     5  \n"
     ]
    }
   ],
   "source": [
    "# Split good reviews (4 and 5 stars) and bad reviews (1 and 2 stars)\n",
    "good = dfrev.loc[dfrev['star'].isin([4,5])]\n",
    "bad = dfrev.loc[dfrev['star'].isin([1,2])]\n",
    "print(bad.head())\n",
    "print(good.tail())"
   ]
  },
  {
   "cell_type": "markdown",
   "metadata": {},
   "source": [
    "### To import scraped file"
   ]
  },
  {
   "cell_type": "code",
   "execution_count": 4,
   "metadata": {},
   "outputs": [
    {
     "data": {
      "text/html": [
       "<div>\n",
       "<style scoped>\n",
       "    .dataframe tbody tr th:only-of-type {\n",
       "        vertical-align: middle;\n",
       "    }\n",
       "\n",
       "    .dataframe tbody tr th {\n",
       "        vertical-align: top;\n",
       "    }\n",
       "\n",
       "    .dataframe thead th {\n",
       "        text-align: right;\n",
       "    }\n",
       "</style>\n",
       "<table border=\"1\" class=\"dataframe\">\n",
       "  <thead>\n",
       "    <tr style=\"text-align: right;\">\n",
       "      <th></th>\n",
       "      <th>Unnamed: 0</th>\n",
       "      <th>0</th>\n",
       "    </tr>\n",
       "  </thead>\n",
       "  <tbody>\n",
       "    <tr>\n",
       "      <th>0</th>\n",
       "      <td>0</td>\n",
       "      <td>Great story</td>\n",
       "    </tr>\n",
       "    <tr>\n",
       "      <th>1</th>\n",
       "      <td>1</td>\n",
       "      <td>Rated 5 stars out of five stars</td>\n",
       "    </tr>\n",
       "    <tr>\n",
       "      <th>2</th>\n",
       "      <td>2</td>\n",
       "      <td>It is awesome</td>\n",
       "    </tr>\n",
       "    <tr>\n",
       "      <th>3</th>\n",
       "      <td>3</td>\n",
       "      <td>Rated 4 stars out of five stars</td>\n",
       "    </tr>\n",
       "    <tr>\n",
       "      <th>4</th>\n",
       "      <td>4</td>\n",
       "      <td>these stories look amazing but i have to pay f...</td>\n",
       "    </tr>\n",
       "  </tbody>\n",
       "</table>\n",
       "</div>"
      ],
      "text/plain": [
       "   Unnamed: 0                                                  0\n",
       "0           0                                        Great story\n",
       "1           1                    Rated 5 stars out of five stars\n",
       "2           2                                      It is awesome\n",
       "3           3                    Rated 4 stars out of five stars\n",
       "4           4  these stories look amazing but i have to pay f..."
      ]
     },
     "execution_count": 4,
     "metadata": {},
     "output_type": "execute_result"
    }
   ],
   "source": [
    "df = pd.read_csv ('google.csv')\n",
    "df.head()"
   ]
  },
  {
   "cell_type": "code",
   "execution_count": 28,
   "metadata": {},
   "outputs": [
    {
     "data": {
      "text/plain": [
       "Index(['Unnamed: 0', '0'], dtype='object')"
      ]
     },
     "execution_count": 28,
     "metadata": {},
     "output_type": "execute_result"
    }
   ],
   "source": [
    "df.columns"
   ]
  },
  {
   "cell_type": "code",
   "execution_count": 5,
   "metadata": {},
   "outputs": [
    {
     "data": {
      "text/html": [
       "<div>\n",
       "<style scoped>\n",
       "    .dataframe tbody tr th:only-of-type {\n",
       "        vertical-align: middle;\n",
       "    }\n",
       "\n",
       "    .dataframe tbody tr th {\n",
       "        vertical-align: top;\n",
       "    }\n",
       "\n",
       "    .dataframe thead th {\n",
       "        text-align: right;\n",
       "    }\n",
       "</style>\n",
       "<table border=\"1\" class=\"dataframe\">\n",
       "  <thead>\n",
       "    <tr style=\"text-align: right;\">\n",
       "      <th></th>\n",
       "      <th>review</th>\n",
       "      <th>rating</th>\n",
       "    </tr>\n",
       "  </thead>\n",
       "  <tbody>\n",
       "    <tr>\n",
       "      <th>0</th>\n",
       "      <td>Great story</td>\n",
       "      <td>Rated 5 stars out of five stars</td>\n",
       "    </tr>\n",
       "    <tr>\n",
       "      <th>1</th>\n",
       "      <td>It is awesome</td>\n",
       "      <td>Rated 4 stars out of five stars</td>\n",
       "    </tr>\n",
       "    <tr>\n",
       "      <th>2</th>\n",
       "      <td>these stories look amazing but i have to pay f...</td>\n",
       "      <td>Rated 5 stars out of five stars</td>\n",
       "    </tr>\n",
       "    <tr>\n",
       "      <th>3</th>\n",
       "      <td>WORD.</td>\n",
       "      <td>Rated 5 stars out of five stars</td>\n",
       "    </tr>\n",
       "    <tr>\n",
       "      <th>4</th>\n",
       "      <td>Meh. Not that great. Now that I finished readi...</td>\n",
       "      <td>Rated 1 stars out of five stars</td>\n",
       "    </tr>\n",
       "  </tbody>\n",
       "</table>\n",
       "</div>"
      ],
      "text/plain": [
       "                                              review  \\\n",
       "0                                        Great story   \n",
       "1                                      It is awesome   \n",
       "2  these stories look amazing but i have to pay f...   \n",
       "3                                              WORD.   \n",
       "4  Meh. Not that great. Now that I finished readi...   \n",
       "\n",
       "                            rating  \n",
       "0  Rated 5 stars out of five stars  \n",
       "1  Rated 4 stars out of five stars  \n",
       "2  Rated 5 stars out of five stars  \n",
       "3  Rated 5 stars out of five stars  \n",
       "4  Rated 1 stars out of five stars  "
      ]
     },
     "execution_count": 5,
     "metadata": {},
     "output_type": "execute_result"
    }
   ],
   "source": [
    "#putting the reviews in one column and the ratings in another (dataframe from dictionary) \n",
    "#changing 0 to string '0'\n",
    "dfrev = pd.DataFrame({'review':df['0'].iloc[::2].values, 'rating':df['0'].iloc[1::2].values})\n",
    "dfrev.head()"
   ]
  },
  {
   "cell_type": "code",
   "execution_count": 6,
   "metadata": {},
   "outputs": [
    {
     "name": "stdout",
     "output_type": "stream",
     "text": [
      "                                               review  \\\n",
      "4   Meh. Not that great. Now that I finished readi...   \n",
      "6   you:*clicks on a story you wanna read* first c...   \n",
      "7    wish the free trail didnt need a card or nothing   \n",
      "13  Omg not any more it more like we sorry will it...   \n",
      "17  PATHETIC!!!! i hate this app!!!! you have to p...   \n",
      "\n",
      "                             rating  star  \n",
      "4   Rated 1 stars out of five stars     1  \n",
      "6   Rated 1 stars out of five stars     1  \n",
      "7   Rated 2 stars out of five stars     2  \n",
      "13  Rated 1 stars out of five stars     1  \n",
      "17  Rated 1 stars out of five stars     1  \n",
      "                                                review  \\\n",
      "286              Love the compeling arts. Please more!   \n",
      "287                            Brilliant storytelling!   \n",
      "292  Stela is a unique way to view comics. The grap...   \n",
      "293  It requires payment but it is also not like ot...   \n",
      "294  Awesome comic reading platform. Highly recomme...   \n",
      "\n",
      "                              rating  star  \n",
      "286  Rated 5 stars out of five stars     5  \n",
      "287  Rated 5 stars out of five stars     5  \n",
      "292  Rated 5 stars out of five stars     5  \n",
      "293  Rated 5 stars out of five stars     5  \n",
      "294  Rated 5 stars out of five stars     5  \n"
     ]
    }
   ],
   "source": [
    "#Only want numbers from ratings column\n",
    "dfrev['star'] = dfrev['rating'].str.extract('(\\d+)').astype(int)\n",
    "\n",
    "# Split good reviews (4 and 5 stars) and bad reviews (1 and 2 stars)\n",
    "good = dfrev.loc[dfrev['star'].isin([4,5])]\n",
    "bad = dfrev.loc[dfrev['star'].isin([1,2])]\n",
    "print(bad.head())\n",
    "print(good.tail())"
   ]
  },
  {
   "cell_type": "markdown",
   "metadata": {},
   "source": [
    "## NLP"
   ]
  },
  {
   "cell_type": "code",
   "execution_count": 11,
   "metadata": {},
   "outputs": [],
   "source": [
    "from gensim.utils import simple_preprocess\n",
    "\n",
    "import nltk\n",
    "from nltk.corpus import stopwords\n",
    "from nltk.util import bigrams\n",
    "from nltk import FreqDist, Text\n",
    "from nltk.stem import PorterStemmer\n",
    "from collections import Counter\n",
    "import operator\n",
    "import matplotlib.pyplot as plt"
   ]
  },
  {
   "cell_type": "code",
   "execution_count": 8,
   "metadata": {},
   "outputs": [],
   "source": [
    "Google_good = good['review']\n",
    "Google_bad = bad['review']"
   ]
  },
  {
   "cell_type": "code",
   "execution_count": 19,
   "metadata": {},
   "outputs": [],
   "source": [
    "def sentiment (review_df):\n",
    "\n",
    "    t = review_df.str.cat(sep=' ')\n",
    "    stop_words = stopwords.words('english') \n",
    "    \n",
    "    def remove_stopwords(texts):\n",
    "        return [word for word in simple_preprocess(str(texts)) if word not in stop_words] \n",
    "\n",
    "    words_nostops = remove_stopwords(t)\n",
    "    words_bigrams = (list(bigrams(words_nostops)))\n",
    "    words = words_nostops + words_bigrams\n",
    "\n",
    "    def get_afinn_scores(file = 'AFINN-en-165.txt'): \n",
    "        afinn_file = open(file)\n",
    "        scores = {}\n",
    "        for line in afinn_file:\n",
    "          term, score  = line.split(\"\\t\")\n",
    "          scores[term] = int(score)\n",
    "        return scores\n",
    "\n",
    "    afinn_scores = get_afinn_scores()\n",
    "    pos=[]\n",
    "    for word in words:\n",
    "        if word in afinn_scores and afinn_scores[word] > 0:\n",
    "            pos.append(word)\n",
    "\n",
    "    neg=[]\n",
    "    for word in words:\n",
    "        if word in afinn_scores and afinn_scores[word] < 0:\n",
    "            neg.append(word)\n",
    "\n",
    "    posneg = pos + neg\n",
    "\n",
    "    count_pos = Counter(pos)\n",
    "    count_neg = Counter(neg)\n",
    "    count_posneg = Counter(posneg)\n",
    "\n",
    "    freq_pos = {k: v for k,v in count_pos.items() if v > 1}\n",
    "    freq_neg = {k: v for k,v in count_neg.items() if v > 1}\n",
    "    freq_posneg = {k: v for k,v in count_posneg.items() if v > 1}\n",
    "\n",
    "    sorted_freq_pos = dict( sorted(freq_pos.items(), key=operator.itemgetter(1),reverse=False))\n",
    "    sorted_freq_neg = dict( sorted(freq_neg.items(), key=operator.itemgetter(1),reverse=False))\n",
    "    sorted_freq_posneg = dict( sorted(freq_posneg.items(), key=operator.itemgetter(1),reverse=False))\n",
    "    return [sorted_freq_pos, sorted_freq_neg, sorted_freq_posneg]\n",
    "    "
   ]
  },
  {
   "cell_type": "code",
   "execution_count": 20,
   "metadata": {},
   "outputs": [],
   "source": [
    "Google_good_sentiment = sentiment(Google_good)\n",
    "Google_good_pos = Google_good_sentiment[0]\n",
    "Google_good_neg = Google_good_sentiment[1]\n",
    "Google_good_posneg = Google_good_sentiment[2]\n"
   ]
  },
  {
   "cell_type": "code",
   "execution_count": 21,
   "metadata": {},
   "outputs": [],
   "source": [
    "Google_bad_sentiment = sentiment(Google_bad)\n",
    "Google_bad_pos = Google_bad_sentiment[0]\n",
    "Google_bad_neg = Google_bad_sentiment[1]\n",
    "Google_bad_posneg = Google_bad_sentiment[2]\n"
   ]
  },
  {
   "cell_type": "code",
   "execution_count": 30,
   "metadata": {},
   "outputs": [
    {
     "data": {
      "image/png": "[encoded data removed]",
      "text/plain": [
       "<Figure size 800x1440 with 2 Axes>"
      ]
     },
     "metadata": {
      "needs_background": "light"
     },
     "output_type": "display_data"
    }
   ],
   "source": [
    "#All to get the axes the same \n",
    "#height_posneg = list(Google_good_posneg.values())\n",
    "#bars_posneg = list(Google_good_posneg.keys())\n",
    "#y_posneg = np.arange(len(bars_posneg))\n",
    "\n",
    "#Good_pos\n",
    "height_pos = list(Google_good_pos.values())\n",
    "bars_pos = list(Google_good_pos.keys())\n",
    "y_pos = np.arange(len(bars_pos))\n",
    "\n",
    "#Bad_pos\n",
    "height_neg = list(Google_bad_neg.values())\n",
    "bars_neg = list(Google_bad_neg.keys())\n",
    "y_neg = np.arange(len(bars_neg))\n",
    "\n",
    "#indices to get the y values/position of each list\n",
    "#idp = [ bars_posneg.index(b) for b in bars_pos ]\n",
    "#ign = [ bars_posneg.index(b) for b in bars_neg ]\n",
    "\n",
    "#Make plot bigger than default\n",
    "plt.figure (figsize=(10, 18), dpi= 80)\n",
    "\n",
    "plt.figure(1)\n",
    "plt.subplot(211)\n",
    "\n",
    "# Create horizontal bars\n",
    "plt.barh(y_pos, height_pos, color = 'green', label = 'Positive Sentiment')\n",
    "# Create names on the y-axis\n",
    "plt.yticks(y_pos, bars_pos)\n",
    "plt.xticks([])\n",
    "plt.xlabel ('Frequency')\n",
    "plt.title('Common Positive Sentiment Words in 4-Star and 5-Star Google Play Reviews')\n",
    "#plt.legend()\n",
    "\n",
    "plt.subplot(212)\n",
    "plt.barh(y_neg, height_neg, color = 'red', label = 'Negative Sentiment')\n",
    "# Create names on the y-axis\n",
    "plt.yticks(y_neg, bars_neg)\n",
    "plt.xticks([])\n",
    "plt.xlabel ('Frequency')\n",
    "plt.title('Common Negative Sentiment Words in 1-Star and 2-Star Google Play Reviews')\n",
    "\n",
    "#plt.legend()\n",
    "\n",
    "# Show graphic\n",
    "plt.show()"
   ]
  },
  {
   "cell_type": "code",
   "execution_count": 23,
   "metadata": {},
   "outputs": [
    {
     "data": {
      "text/plain": [
       "['better',\n",
       " 'clean',\n",
       " 'stunning',\n",
       " 'interesting',\n",
       " 'please',\n",
       " 'kind',\n",
       " 'super',\n",
       " 'wish',\n",
       " 'wow',\n",
       " 'creative',\n",
       " 'friend',\n",
       " 'appreciate',\n",
       " 'enjoy',\n",
       " 'pretty',\n",
       " 'want',\n",
       " 'lovely',\n",
       " 'loved',\n",
       " 'easy',\n",
       " 'quality',\n",
       " 'perfect',\n",
       " 'blah',\n",
       " 'recommend',\n",
       " 'free',\n",
       " 'wonderful',\n",
       " 'best',\n",
       " 'beautiful',\n",
       " 'worth',\n",
       " 'comic',\n",
       " 'pay',\n",
       " 'like',\n",
       " 'nice',\n",
       " 'cool',\n",
       " 'awesome',\n",
       " 'amazing',\n",
       " 'great',\n",
       " 'love',\n",
       " 'good']"
      ]
     },
     "execution_count": 23,
     "metadata": {},
     "output_type": "execute_result"
    }
   ],
   "source": [
    "list(Google_good_posneg.keys())"
   ]
  },
  {
   "cell_type": "markdown",
   "metadata": {},
   "source": [
    "### Getting word count chart without afinn "
   ]
  },
  {
   "cell_type": "code",
   "execution_count": 39,
   "metadata": {},
   "outputs": [],
   "source": [
    "#https://github.com/google/eng-edu/blob/master/ml/guides/text_classification/explore_data.py\n",
    "\n",
    "\"\"\"Module to explore data.\n",
    "Contains functions to help study, visualize and understand datasets.\n",
    "\"\"\"\n",
    "from __future__ import absolute_import\n",
    "from __future__ import division\n",
    "from __future__ import print_function\n",
    "\n",
    "import numpy as np\n",
    "import matplotlib.pyplot as plt\n",
    "\n",
    "from collections import Counter\n",
    "from sklearn.feature_extraction.text import CountVectorizer\n",
    "\n",
    "def plot_frequency_distribution_of_ngrams(sample_texts,\n",
    "                                          ngram_range=(1, 2),\n",
    "                                          num_ngrams=50):\n",
    "    \"\"\"Plots the frequency distribution of n-grams.\n",
    "    # Arguments\n",
    "        samples_texts: list, sample texts.\n",
    "        ngram_range: tuple (min, mplt), The range of n-gram values to consider.\n",
    "            Min and mplt are the lower and upper bound values for the range.\n",
    "        num_ngrams: int, number of n-grams to plot.\n",
    "            Top `num_ngrams` frequent n-grams will be plotted.\n",
    "    \"\"\"\n",
    "    # Create args required for vectorizing.\n",
    "    kwargs = {\n",
    "            'ngram_range': (1, 1),\n",
    "            'dtype': 'int32',\n",
    "            'strip_accents': 'unicode',\n",
    "            'decode_error': 'replace',\n",
    "            'analyzer': 'word',  # Split text into word tokens.\n",
    "    }\n",
    "    vectorizer = CountVectorizer(**kwargs)\n",
    "\n",
    "    # This creates a vocabulary (dict, where keys are n-grams and values are\n",
    "    # idxices). This also converts every text to an array the length of\n",
    "    # vocabulary, where every element idxicates the count of the n-gram\n",
    "    # corresponding at that idxex in vocabulary.\n",
    "    vectorized_texts = vectorizer.fit_transform(sample_texts)\n",
    "\n",
    "    # This is the list of all n-grams in the index order from the vocabulary.\n",
    "    all_ngrams = list(vectorizer.get_feature_names())\n",
    "    num_ngrams = min(num_ngrams, len(all_ngrams))\n",
    "    # ngrams = all_ngrams[:num_ngrams]\n",
    "\n",
    "    # Add up the counts per n-gram ie. column-wise\n",
    "    all_counts = vectorized_texts.sum(axis=0).tolist()[0]\n",
    "\n",
    "    # Sort n-grams and counts by frequency and get top `num_ngrams` ngrams.\n",
    "    all_counts, all_ngrams = zip(*[(c, n) for c, n in sorted(\n",
    "        zip(all_counts, all_ngrams), reverse=True)])\n",
    "    ngrams = list(all_ngrams)[:num_ngrams]\n",
    "    counts = list(all_counts)[:num_ngrams]\n",
    "\n",
    "    idx = np.arange(num_ngrams)\n",
    "    plt.bar(idx, counts, width=0.8, color='b')\n",
    "    plt.xlabel('N-grams')\n",
    "    plt.ylabel('Frequencies')\n",
    "    plt.title('Frequency distribution of n-grams')\n",
    "    plt.xticks(idx, ngrams, rotation=90)\n",
    "    plt.show()\n"
   ]
  },
  {
   "cell_type": "code",
   "execution_count": 40,
   "metadata": {},
   "outputs": [
    {
     "data": {
      "image/png": "[encoded data removed]",
      "text/plain": [
       "<Figure size 600x400 with 1 Axes>"
      ]
     },
     "metadata": {
      "needs_background": "light"
     },
     "output_type": "display_data"
    }
   ],
   "source": [
    "plot_frequency_distribution_of_ngrams(words_nostops)"
   ]
  },
  {
   "cell_type": "code",
   "execution_count": null,
   "metadata": {},
   "outputs": [],
   "source": []
  }
 ],
 "metadata": {
  "kernelspec": {
   "display_name": "Python 3",
   "language": "python",
   "name": "python3"
  },
  "language_info": {
   "codemirror_mode": {
    "name": "ipython",
    "version": 3
   },
   "file_extension": ".py",
   "mimetype": "text/x-python",
   "name": "python",
   "nbconvert_exporter": "python",
   "pygments_lexer": "ipython3",
   "version": "3.7.1"
  }
 },
 "nbformat": 4,
 "nbformat_minor": 2
}
